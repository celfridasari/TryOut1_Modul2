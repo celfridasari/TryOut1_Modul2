{
 "metadata": {
  "language_info": {
   "codemirror_mode": {
    "name": "ipython",
    "version": 3
   },
   "file_extension": ".py",
   "mimetype": "text/x-python",
   "name": "python",
   "nbconvert_exporter": "python",
   "pygments_lexer": "ipython3",
   "version": "3.9.4"
  },
  "orig_nbformat": 2,
  "kernelspec": {
   "name": "python394jvsc74a57bd0fe3cc3a0a60c5d0d95d0c5c65a89fa5fda60f9e31334ac610b24ae2ba0a016cb",
   "display_name": "Python 3.9.4 64-bit (windows store)"
  },
  "metadata": {
   "interpreter": {
    "hash": "fe3cc3a0a60c5d0d95d0c5c65a89fa5fda60f9e31334ac610b24ae2ba0a016cb"
   }
  }
 },
 "nbformat": 4,
 "nbformat_minor": 2,
 "cells": [
  {
   "cell_type": "code",
   "execution_count": 3,
   "metadata": {},
   "outputs": [],
   "source": [
    "import mysql.connector"
   ]
  },
  {
   "cell_type": "code",
   "execution_count": 4,
   "metadata": {},
   "outputs": [],
   "source": [
    "import pandas as pd"
   ]
  },
  {
   "cell_type": "code",
   "execution_count": 5,
   "metadata": {},
   "outputs": [],
   "source": [
    "mydb = mysql.connector.connect(\n",
    "    host = 'localhost',\n",
    "    user = 'root',\n",
    "    passwd = 'Wonder1995!',\n",
    "    database = 'retrowheels'\n",
    ")"
   ]
  },
  {
   "source": [
    "1.  Rumuskan single query untuk menampilkan jumlah total customer yang Anda layani, beserta jumlah\n",
    "total kota & negara asal customer-customer Anda. "
   ],
   "cell_type": "markdown",
   "metadata": {}
  },
  {
   "cell_type": "code",
   "execution_count": 6,
   "metadata": {},
   "outputs": [
    {
     "output_type": "execute_result",
     "data": {
      "text/plain": [
       "   Customers  Cities  Countries\n",
       "0        122      95         27"
      ],
      "text/html": "<div>\n<style scoped>\n    .dataframe tbody tr th:only-of-type {\n        vertical-align: middle;\n    }\n\n    .dataframe tbody tr th {\n        vertical-align: top;\n    }\n\n    .dataframe thead th {\n        text-align: right;\n    }\n</style>\n<table border=\"1\" class=\"dataframe\">\n  <thead>\n    <tr style=\"text-align: right;\">\n      <th></th>\n      <th>Customers</th>\n      <th>Cities</th>\n      <th>Countries</th>\n    </tr>\n  </thead>\n  <tbody>\n    <tr>\n      <th>0</th>\n      <td>122</td>\n      <td>95</td>\n      <td>27</td>\n    </tr>\n  </tbody>\n</table>\n</div>"
     },
     "metadata": {},
     "execution_count": 6
    }
   ],
   "source": [
    "mycursor = mydb.cursor()\n",
    "query = 'SELECT COUNT(DISTINCT customernumber) as Customers, COUNT(DISTINCT city) as Cities, COUNT(DISTINCT country) as Countries FROM customers'\n",
    "mycursor.execute(query)\n",
    "result = mycursor.fetchall()\n",
    "df = pd.DataFrame(result,columns = mycursor.column_names)\n",
    "df"
   ]
  },
  {
   "source": [
    "2. Rumuskan single query untuk menampilkan resources yang Anda miliki, mulai dari jumlah karyawan,\n",
    "jumlah kantor & lokasi negaranya, jumlah barang yang dijual, total stok barang & jumlah vendor\n",
    "yang menjadi partner Anda."
   ],
   "cell_type": "markdown",
   "metadata": {}
  },
  {
   "cell_type": "code",
   "execution_count": 7,
   "metadata": {},
   "outputs": [
    {
     "output_type": "execute_result",
     "data": {
      "text/plain": [
       "   Employees  Offices  Country  Products StockProducts  Vendors\n",
       "0         23        7        5       110        555131       13"
      ],
      "text/html": "<div>\n<style scoped>\n    .dataframe tbody tr th:only-of-type {\n        vertical-align: middle;\n    }\n\n    .dataframe tbody tr th {\n        vertical-align: top;\n    }\n\n    .dataframe thead th {\n        text-align: right;\n    }\n</style>\n<table border=\"1\" class=\"dataframe\">\n  <thead>\n    <tr style=\"text-align: right;\">\n      <th></th>\n      <th>Employees</th>\n      <th>Offices</th>\n      <th>Country</th>\n      <th>Products</th>\n      <th>StockProducts</th>\n      <th>Vendors</th>\n    </tr>\n  </thead>\n  <tbody>\n    <tr>\n      <th>0</th>\n      <td>23</td>\n      <td>7</td>\n      <td>5</td>\n      <td>110</td>\n      <td>555131</td>\n      <td>13</td>\n    </tr>\n  </tbody>\n</table>\n</div>"
     },
     "metadata": {},
     "execution_count": 7
    }
   ],
   "source": [
    "mycursor = mydb.cursor()\n",
    "query = 'SELECT COUNT(distinct employeeNumber) as Employees,COUNT(distinct offices.officeCode) as Offices,COUNT(distinct country) as Country,COUNT(distinct productCode) as Products,SUM(distinct quantityinstock) as StockProducts,COUNT(distinct productVendor) as Vendors FROM employees,offices,products'\n",
    "mycursor.execute(query)\n",
    "result = mycursor.fetchall()\n",
    "df = pd.DataFrame(result,columns = mycursor.column_names)\n",
    "df"
   ]
  },
  {
   "source": [
    "3. Dari soal sebelumnya tercatat Anda memiliki 110 model die cast dengan total stok 555131 item. Jika\n",
    "dikategorikan, produk yang Anda jual terbagi menjadi 7 product line die cast, yakni model mobil klasik,\n",
    "mobil vintage, sepeda motor, pesawat terbang, kapal laut, kereta api serta truk & bus. Rumuskan single\n",
    "query yang dapat menampilkan harga produk terendah & tertinggi untuk masing-masing kategori."
   ],
   "cell_type": "markdown",
   "metadata": {}
  },
  {
   "cell_type": "code",
   "execution_count": 8,
   "metadata": {},
   "outputs": [
    {
     "output_type": "execute_result",
     "data": {
      "text/plain": [
       "        productLine min(buyPrice) max(buyPrice)\n",
       "0      Classic Cars         15.91        103.42\n",
       "1       Motorcycles         24.14         91.02\n",
       "2            Planes         29.34         77.27\n",
       "3             Ships         33.30         82.34\n",
       "4            Trains         26.72         67.56\n",
       "5  Trucks and Buses         24.92         84.76\n",
       "6      Vintage Cars         20.61         86.70"
      ],
      "text/html": "<div>\n<style scoped>\n    .dataframe tbody tr th:only-of-type {\n        vertical-align: middle;\n    }\n\n    .dataframe tbody tr th {\n        vertical-align: top;\n    }\n\n    .dataframe thead th {\n        text-align: right;\n    }\n</style>\n<table border=\"1\" class=\"dataframe\">\n  <thead>\n    <tr style=\"text-align: right;\">\n      <th></th>\n      <th>productLine</th>\n      <th>min(buyPrice)</th>\n      <th>max(buyPrice)</th>\n    </tr>\n  </thead>\n  <tbody>\n    <tr>\n      <th>0</th>\n      <td>Classic Cars</td>\n      <td>15.91</td>\n      <td>103.42</td>\n    </tr>\n    <tr>\n      <th>1</th>\n      <td>Motorcycles</td>\n      <td>24.14</td>\n      <td>91.02</td>\n    </tr>\n    <tr>\n      <th>2</th>\n      <td>Planes</td>\n      <td>29.34</td>\n      <td>77.27</td>\n    </tr>\n    <tr>\n      <th>3</th>\n      <td>Ships</td>\n      <td>33.30</td>\n      <td>82.34</td>\n    </tr>\n    <tr>\n      <th>4</th>\n      <td>Trains</td>\n      <td>26.72</td>\n      <td>67.56</td>\n    </tr>\n    <tr>\n      <th>5</th>\n      <td>Trucks and Buses</td>\n      <td>24.92</td>\n      <td>84.76</td>\n    </tr>\n    <tr>\n      <th>6</th>\n      <td>Vintage Cars</td>\n      <td>20.61</td>\n      <td>86.70</td>\n    </tr>\n  </tbody>\n</table>\n</div>"
     },
     "metadata": {},
     "execution_count": 8
    }
   ],
   "source": [
    "mycursor = mydb.cursor()\n",
    "query = 'SELECT productLine,min(buyPrice),max(buyPrice) FROM products GROUP BY productLine'\n",
    "mycursor.execute(query)\n",
    "result = mycursor.fetchall()\n",
    "df = pd.DataFrame(result,columns = mycursor.column_names)\n",
    "df"
   ]
  },
  {
   "source": [
    "4. Rumuskan single query yang dapat menampilkan daftar 10 customer paling royal (paling banyak\n",
    "mendatangkan uang bagi kita), yang total nominal transaksinya paling tinggi. Data yang ditampilkan\n",
    "adalah nama customer, kota & negara asal, beserta total uang yang dihabiskan di produk kita"
   ],
   "cell_type": "markdown",
   "metadata": {}
  },
  {
   "cell_type": "code",
   "execution_count": 9,
   "metadata": {},
   "outputs": [
    {
     "output_type": "execute_result",
     "data": {
      "text/plain": [
       "                   customername           city      country      total\n",
       "0        Euro+ Shopping Channel         Madrid        Spain  715738.98\n",
       "1  Mini Gifts Distributors Ltd.     San Rafael          USA  584188.24\n",
       "2    Australian Collectors, Co.      Melbourne    Australia  180585.07\n",
       "3            Muscle Machine Inc            NYC          USA  177913.95\n",
       "4       Dragon Souveniers, Ltd.      Singapore    Singapore  156251.03\n",
       "5    Down Under Souveniers, Inc     Auckland    New Zealand  154622.08\n",
       "6                AV Stores, Co.     Manchester           UK  148410.09\n",
       "7       Anna's Decorations, Ltd   North Sydney    Australia  137034.22\n",
       "8      Corporate Gift Ideas Co.  San Francisco          USA  132340.78\n",
       "9        Saveley & Henriot, Co.           Lyon       France  130305.35"
      ],
      "text/html": "<div>\n<style scoped>\n    .dataframe tbody tr th:only-of-type {\n        vertical-align: middle;\n    }\n\n    .dataframe tbody tr th {\n        vertical-align: top;\n    }\n\n    .dataframe thead th {\n        text-align: right;\n    }\n</style>\n<table border=\"1\" class=\"dataframe\">\n  <thead>\n    <tr style=\"text-align: right;\">\n      <th></th>\n      <th>customername</th>\n      <th>city</th>\n      <th>country</th>\n      <th>total</th>\n    </tr>\n  </thead>\n  <tbody>\n    <tr>\n      <th>0</th>\n      <td>Euro+ Shopping Channel</td>\n      <td>Madrid</td>\n      <td>Spain</td>\n      <td>715738.98</td>\n    </tr>\n    <tr>\n      <th>1</th>\n      <td>Mini Gifts Distributors Ltd.</td>\n      <td>San Rafael</td>\n      <td>USA</td>\n      <td>584188.24</td>\n    </tr>\n    <tr>\n      <th>2</th>\n      <td>Australian Collectors, Co.</td>\n      <td>Melbourne</td>\n      <td>Australia</td>\n      <td>180585.07</td>\n    </tr>\n    <tr>\n      <th>3</th>\n      <td>Muscle Machine Inc</td>\n      <td>NYC</td>\n      <td>USA</td>\n      <td>177913.95</td>\n    </tr>\n    <tr>\n      <th>4</th>\n      <td>Dragon Souveniers, Ltd.</td>\n      <td>Singapore</td>\n      <td>Singapore</td>\n      <td>156251.03</td>\n    </tr>\n    <tr>\n      <th>5</th>\n      <td>Down Under Souveniers, Inc</td>\n      <td>Auckland</td>\n      <td>New Zealand</td>\n      <td>154622.08</td>\n    </tr>\n    <tr>\n      <th>6</th>\n      <td>AV Stores, Co.</td>\n      <td>Manchester</td>\n      <td>UK</td>\n      <td>148410.09</td>\n    </tr>\n    <tr>\n      <th>7</th>\n      <td>Anna's Decorations, Ltd</td>\n      <td>North Sydney</td>\n      <td>Australia</td>\n      <td>137034.22</td>\n    </tr>\n    <tr>\n      <th>8</th>\n      <td>Corporate Gift Ideas Co.</td>\n      <td>San Francisco</td>\n      <td>USA</td>\n      <td>132340.78</td>\n    </tr>\n    <tr>\n      <th>9</th>\n      <td>Saveley &amp; Henriot, Co.</td>\n      <td>Lyon</td>\n      <td>France</td>\n      <td>130305.35</td>\n    </tr>\n  </tbody>\n</table>\n</div>"
     },
     "metadata": {},
     "execution_count": 9
    }
   ],
   "source": [
    "mycursor = mydb.cursor()\n",
    "query = 'SELECT customers.customername,customers.city,customers.country,sum(amount) as total from payments LEFT JOIN customers on customers.customernumber = payments.customernumber group by payments.customernumber order by total DESC limit 10'\n",
    "mycursor.execute(query)\n",
    "result = mycursor.fetchall()\n",
    "df = pd.DataFrame(result,columns = mycursor.column_names)\n",
    "df"
   ]
  },
  {
   "source": [
    "5. Pada 2003-06-05, terdapat pembayaran masuk sebesar US$ 14571.44. Tampilkan data seputar\n",
    "transaksi tersebut, mencakup nama customer yang melakukan pembayaran, nama produk yang dibeli,\n",
    "jumlah tiap produk yang dibeli dan harga satuannya. Pastikan total harga yang dibeli sesuai dengan\n",
    "data pembayaran masuk."
   ],
   "cell_type": "markdown",
   "metadata": {}
  },
  {
   "cell_type": "code",
   "execution_count": 16,
   "metadata": {},
   "outputs": [
    {
     "output_type": "execute_result",
     "data": {
      "text/plain": [
       "        customerName                     productname  quantityordered  \\\n",
       "0  Atelier graphique           1965 Aston Martin DB5               26   \n",
       "1  Atelier graphique    1999 Indy 500 Monte Carlo SS               46   \n",
       "2  Atelier graphique  1948 Porsche Type 356 Roadster               34   \n",
       "3  Atelier graphique       1966 Shelby Cobra 427 S/C               50   \n",
       "\n",
       "  priceEach  \n",
       "0    120.71  \n",
       "1    114.84  \n",
       "2    117.26  \n",
       "3     43.27  "
      ],
      "text/html": "<div>\n<style scoped>\n    .dataframe tbody tr th:only-of-type {\n        vertical-align: middle;\n    }\n\n    .dataframe tbody tr th {\n        vertical-align: top;\n    }\n\n    .dataframe thead th {\n        text-align: right;\n    }\n</style>\n<table border=\"1\" class=\"dataframe\">\n  <thead>\n    <tr style=\"text-align: right;\">\n      <th></th>\n      <th>customerName</th>\n      <th>productname</th>\n      <th>quantityordered</th>\n      <th>priceEach</th>\n    </tr>\n  </thead>\n  <tbody>\n    <tr>\n      <th>0</th>\n      <td>Atelier graphique</td>\n      <td>1965 Aston Martin DB5</td>\n      <td>26</td>\n      <td>120.71</td>\n    </tr>\n    <tr>\n      <th>1</th>\n      <td>Atelier graphique</td>\n      <td>1999 Indy 500 Monte Carlo SS</td>\n      <td>46</td>\n      <td>114.84</td>\n    </tr>\n    <tr>\n      <th>2</th>\n      <td>Atelier graphique</td>\n      <td>1948 Porsche Type 356 Roadster</td>\n      <td>34</td>\n      <td>117.26</td>\n    </tr>\n    <tr>\n      <th>3</th>\n      <td>Atelier graphique</td>\n      <td>1966 Shelby Cobra 427 S/C</td>\n      <td>50</td>\n      <td>43.27</td>\n    </tr>\n  </tbody>\n</table>\n</div>"
     },
     "metadata": {},
     "execution_count": 16
    }
   ],
   "source": [
    "mycursor = mydb.cursor()\n",
    "query = \"SELECT customers.customerName, products.productname, quantityordered,priceEach FROM products RIGHT JOIN orderdetails ON products.productCode = orderdetails.productCode RIGHT JOIN orders ON orderdetails.ordernumber = orders.ordernumber RIGHT JOIN customers ON orders.customerNumber = customers.customerNumber LEFT JOIN payments ON customers.customernumber = payments.customernumber WHERE payments.paymentdate = '2003-06-05' AND orders.orderdate < '2003-06-05'\"\n",
    "mycursor.execute(query)\n",
    "result = mycursor.fetchall()\n",
    "df = pd.DataFrame(result,columns = mycursor.column_names)\n",
    "df"
   ]
  }
 ]
}