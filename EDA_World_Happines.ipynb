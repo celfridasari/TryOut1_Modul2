{
  "nbformat": 4,
  "nbformat_minor": 0,
  "metadata": {
    "colab": {
      "name": "EDA_World_Happines.ipynb",
      "provenance": [],
      "collapsed_sections": []
    },
    "kernelspec": {
      "name": "python3",
      "display_name": "Python 3"
    },
    "language_info": {
      "name": "python"
    }
  },
  "cells": [
    {
      "cell_type": "code",
      "metadata": {
        "id": "zxA61AnLqABF"
      },
      "source": [
        "#import library\n",
        "import numpy as np\n",
        "import pandas as pd\n",
        "import seaborn as sns\n",
        "import matplotlib.pyplot as plt\n",
        "from scipy.stats import norm\n",
        "from scipy.stats import pearsonr\n",
        "import statistics"
      ],
      "execution_count": null,
      "outputs": []
    },
    {
      "cell_type": "code",
      "metadata": {
        "colab": {
          "resources": {
            "http://localhost:8080/nbextensions/google.colab/files.js": {
              "data": "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",
              "ok": true,
              "headers": [
                [
                  "content-type",
                  "application/javascript"
                ]
              ],
              "status": 200,
              "status_text": ""
            }
          },
          "base_uri": "https://localhost:8080/",
          "height": 73
        },
        "id": "xUSlTAR_tiZa",
        "outputId": "6f0538d5-6d39-4c95-b045-9f17b035e205"
      },
      "source": [
        "from google.colab import files\n",
        "uploaded = files.upload()"
      ],
      "execution_count": null,
      "outputs": [
        {
          "output_type": "display_data",
          "data": {
            "text/html": [
              "\n",
              "     <input type=\"file\" id=\"files-57ebddf5-c3b6-42fb-b505-291d54ec2e75\" name=\"files[]\" multiple disabled\n",
              "        style=\"border:none\" />\n",
              "     <output id=\"result-57ebddf5-c3b6-42fb-b505-291d54ec2e75\">\n",
              "      Upload widget is only available when the cell has been executed in the\n",
              "      current browser session. Please rerun this cell to enable.\n",
              "      </output>\n",
              "      <script src=\"/nbextensions/google.colab/files.js\"></script> "
            ],
            "text/plain": [
              "<IPython.core.display.HTML object>"
            ]
          },
          "metadata": {
            "tags": []
          }
        },
        {
          "output_type": "stream",
          "text": [
            "Saving 2019.csv to 2019.csv\n"
          ],
          "name": "stdout"
        }
      ]
    },
    {
      "cell_type": "code",
      "metadata": {
        "colab": {
          "base_uri": "https://localhost:8080/",
          "height": 450
        },
        "id": "87LA-lRytqIQ",
        "outputId": "ceec7ea0-4a42-47a5-9455-8cafe4083f86"
      },
      "source": [
        "#inisiasi data\n",
        "data = pd.read_csv('2019.csv')\n",
        "data"
      ],
      "execution_count": null,
      "outputs": [
        {
          "output_type": "execute_result",
          "data": {
            "text/html": [
              "<div>\n",
              "<style scoped>\n",
              "    .dataframe tbody tr th:only-of-type {\n",
              "        vertical-align: middle;\n",
              "    }\n",
              "\n",
              "    .dataframe tbody tr th {\n",
              "        vertical-align: top;\n",
              "    }\n",
              "\n",
              "    .dataframe thead th {\n",
              "        text-align: right;\n",
              "    }\n",
              "</style>\n",
              "<table border=\"1\" class=\"dataframe\">\n",
              "  <thead>\n",
              "    <tr style=\"text-align: right;\">\n",
              "      <th></th>\n",
              "      <th>Overall rank</th>\n",
              "      <th>Country or region</th>\n",
              "      <th>Score</th>\n",
              "      <th>GDP per capita</th>\n",
              "      <th>Social support</th>\n",
              "      <th>Healthy life expectancy</th>\n",
              "      <th>Freedom to make life choices</th>\n",
              "      <th>Generosity</th>\n",
              "      <th>Perceptions of corruption</th>\n",
              "    </tr>\n",
              "  </thead>\n",
              "  <tbody>\n",
              "    <tr>\n",
              "      <th>0</th>\n",
              "      <td>1</td>\n",
              "      <td>Finland</td>\n",
              "      <td>7.769</td>\n",
              "      <td>1.340</td>\n",
              "      <td>1.587</td>\n",
              "      <td>0.986</td>\n",
              "      <td>0.596</td>\n",
              "      <td>0.153</td>\n",
              "      <td>0.393</td>\n",
              "    </tr>\n",
              "    <tr>\n",
              "      <th>1</th>\n",
              "      <td>2</td>\n",
              "      <td>Denmark</td>\n",
              "      <td>7.600</td>\n",
              "      <td>1.383</td>\n",
              "      <td>1.573</td>\n",
              "      <td>0.996</td>\n",
              "      <td>0.592</td>\n",
              "      <td>0.252</td>\n",
              "      <td>0.410</td>\n",
              "    </tr>\n",
              "    <tr>\n",
              "      <th>2</th>\n",
              "      <td>3</td>\n",
              "      <td>Norway</td>\n",
              "      <td>7.554</td>\n",
              "      <td>1.488</td>\n",
              "      <td>1.582</td>\n",
              "      <td>1.028</td>\n",
              "      <td>0.603</td>\n",
              "      <td>0.271</td>\n",
              "      <td>0.341</td>\n",
              "    </tr>\n",
              "    <tr>\n",
              "      <th>3</th>\n",
              "      <td>4</td>\n",
              "      <td>Iceland</td>\n",
              "      <td>7.494</td>\n",
              "      <td>1.380</td>\n",
              "      <td>1.624</td>\n",
              "      <td>1.026</td>\n",
              "      <td>0.591</td>\n",
              "      <td>0.354</td>\n",
              "      <td>0.118</td>\n",
              "    </tr>\n",
              "    <tr>\n",
              "      <th>4</th>\n",
              "      <td>5</td>\n",
              "      <td>Netherlands</td>\n",
              "      <td>7.488</td>\n",
              "      <td>1.396</td>\n",
              "      <td>1.522</td>\n",
              "      <td>0.999</td>\n",
              "      <td>0.557</td>\n",
              "      <td>0.322</td>\n",
              "      <td>0.298</td>\n",
              "    </tr>\n",
              "    <tr>\n",
              "      <th>...</th>\n",
              "      <td>...</td>\n",
              "      <td>...</td>\n",
              "      <td>...</td>\n",
              "      <td>...</td>\n",
              "      <td>...</td>\n",
              "      <td>...</td>\n",
              "      <td>...</td>\n",
              "      <td>...</td>\n",
              "      <td>...</td>\n",
              "    </tr>\n",
              "    <tr>\n",
              "      <th>151</th>\n",
              "      <td>152</td>\n",
              "      <td>Rwanda</td>\n",
              "      <td>3.334</td>\n",
              "      <td>0.359</td>\n",
              "      <td>0.711</td>\n",
              "      <td>0.614</td>\n",
              "      <td>0.555</td>\n",
              "      <td>0.217</td>\n",
              "      <td>0.411</td>\n",
              "    </tr>\n",
              "    <tr>\n",
              "      <th>152</th>\n",
              "      <td>153</td>\n",
              "      <td>Tanzania</td>\n",
              "      <td>3.231</td>\n",
              "      <td>0.476</td>\n",
              "      <td>0.885</td>\n",
              "      <td>0.499</td>\n",
              "      <td>0.417</td>\n",
              "      <td>0.276</td>\n",
              "      <td>0.147</td>\n",
              "    </tr>\n",
              "    <tr>\n",
              "      <th>153</th>\n",
              "      <td>154</td>\n",
              "      <td>Afghanistan</td>\n",
              "      <td>3.203</td>\n",
              "      <td>0.350</td>\n",
              "      <td>0.517</td>\n",
              "      <td>0.361</td>\n",
              "      <td>0.000</td>\n",
              "      <td>0.158</td>\n",
              "      <td>0.025</td>\n",
              "    </tr>\n",
              "    <tr>\n",
              "      <th>154</th>\n",
              "      <td>155</td>\n",
              "      <td>Central African Republic</td>\n",
              "      <td>3.083</td>\n",
              "      <td>0.026</td>\n",
              "      <td>0.000</td>\n",
              "      <td>0.105</td>\n",
              "      <td>0.225</td>\n",
              "      <td>0.235</td>\n",
              "      <td>0.035</td>\n",
              "    </tr>\n",
              "    <tr>\n",
              "      <th>155</th>\n",
              "      <td>156</td>\n",
              "      <td>South Sudan</td>\n",
              "      <td>2.853</td>\n",
              "      <td>0.306</td>\n",
              "      <td>0.575</td>\n",
              "      <td>0.295</td>\n",
              "      <td>0.010</td>\n",
              "      <td>0.202</td>\n",
              "      <td>0.091</td>\n",
              "    </tr>\n",
              "  </tbody>\n",
              "</table>\n",
              "<p>156 rows × 9 columns</p>\n",
              "</div>"
            ],
            "text/plain": [
              "     Overall rank  ... Perceptions of corruption\n",
              "0               1  ...                     0.393\n",
              "1               2  ...                     0.410\n",
              "2               3  ...                     0.341\n",
              "3               4  ...                     0.118\n",
              "4               5  ...                     0.298\n",
              "..            ...  ...                       ...\n",
              "151           152  ...                     0.411\n",
              "152           153  ...                     0.147\n",
              "153           154  ...                     0.025\n",
              "154           155  ...                     0.035\n",
              "155           156  ...                     0.091\n",
              "\n",
              "[156 rows x 9 columns]"
            ]
          },
          "metadata": {
            "tags": []
          },
          "execution_count": 11
        }
      ]
    },
    {
      "cell_type": "markdown",
      "metadata": {
        "id": "rbB0eiWNt3nq"
      },
      "source": [
        "# Soal #1"
      ]
    },
    {
      "cell_type": "markdown",
      "metadata": {
        "id": "hxda9KntQHGT"
      },
      "source": [
        " *Generosity*"
      ]
    },
    {
      "cell_type": "code",
      "metadata": {
        "colab": {
          "base_uri": "https://localhost:8080/",
          "height": 805
        },
        "id": "GCxGfIqB7Nbe",
        "outputId": "487f28cc-6515-493b-f3bb-718469b8ecf1"
      },
      "source": [
        "print('Menentukan Mean, Modus dan Median')\n",
        "data_gen = data['Generosity'].sort_values()\n",
        "desc_gen = pd.DataFrame(data['Generosity'].describe())\n",
        "desc_gen.loc['mode']=[statistics.mode(data['Generosity'])]\n",
        "print(desc_gen)\n",
        "print()\n",
        "print('Mode')\n",
        "print(data[data_gen==float(data_gen.mode())]['Country or region'].to_string(index=False))\n",
        "print()\n",
        "print('Menentukan Sebaran Data')\n",
        "print('Total Country in the 1st Quartile =',data_gen[data_gen<=data['Generosity'].quantile(0.25)].count())\n",
        "print('Total Country in the 2nd Quartile =',data_gen[(data_gen>data['Generosity'].quantile(0.25))&(data_gen<=data['Generosity'].quantile(0.50))].count())\n",
        "print('Total Country in the 3rd Quartile =',data_gen[data_gen>data['Generosity'].quantile(0.5)].count())\n",
        "print()\n",
        "print('Menentukan distribusi data')\n",
        "sns.distplot(data['Generosity'],color = 'black')\n",
        "plt.title('Distribusi Plot Generosity',size = 20)\n",
        "plt.grid(True)\n",
        "plt.legend(['Generosity'],loc=1)\n",
        "plt.show()"
      ],
      "execution_count": null,
      "outputs": [
        {
          "output_type": "stream",
          "text": [
            "Menentukan Mean, Modus dan Median\n",
            "       Generosity\n",
            "count  156.000000\n",
            "mean     0.184846\n",
            "std      0.095254\n",
            "min      0.000000\n",
            "25%      0.108750\n",
            "50%      0.177500\n",
            "75%      0.248250\n",
            "max      0.566000\n",
            "mode     0.153000\n",
            "\n",
            "Mode\n",
            " Finland\n",
            "   Spain\n",
            " Senegal\n",
            "    Mali\n",
            "\n",
            "Menentukan Sebaran Data\n",
            "Total Country in the 1st Quartile = 39\n",
            "Total Country in the 2nd Quartile = 39\n",
            "Total Country in the 3rd Quartile = 78\n",
            "\n",
            "Menentukan distribusi data\n"
          ],
          "name": "stdout"
        },
        {
          "output_type": "stream",
          "text": [
            "/usr/local/lib/python3.7/dist-packages/ipykernel_launcher.py:8: UserWarning: Boolean Series key will be reindexed to match DataFrame index.\n",
            "  \n",
            "/usr/local/lib/python3.7/dist-packages/seaborn/distributions.py:2557: FutureWarning: `distplot` is a deprecated function and will be removed in a future version. Please adapt your code to use either `displot` (a figure-level function with similar flexibility) or `histplot` (an axes-level function for histograms).\n",
            "  warnings.warn(msg, FutureWarning)\n"
          ],
          "name": "stderr"
        },
        {
          "output_type": "display_data",
          "data": {
            "image/png": "[encoded data removed]",
            "text/plain": [
              "<Figure size 432x288 with 1 Axes>"
            ]
          },
          "metadata": {
            "tags": [],
            "needs_background": "light"
          }
        }
      ]
    },
    {
      "cell_type": "markdown",
      "metadata": {
        "id": "MSR0g90eHT1N"
      },
      "source": [
        "Titik Pusat Data\n",
        "\n",
        "Jumlah negara yang berhasil didata pada tahun 2019 adalah 156. Rata-rata tingkat generosity sebesar 0.184846 dengan nilai tengah 0.1775 dan mode = 0.153. Total negara yang memiliki tingkat generosity = 0.153 sebanyak 4 negara yaitu Spain, Senegal, Mali dan Senegal"
      ]
    },
    {
      "cell_type": "markdown",
      "metadata": {
        "id": "QyOM5tgYG5aI"
      },
      "source": [
        "Persebaran Data\n",
        "\n",
        "Berdasarkan nilai quartil yang telah diperoleh, dapat diketahui kondisi persebaran data dari tingkat Generosity dari data World Happiness pada tahun 2019. Secara garis besar terdapat 39 negara yang berada pada quartil pertama, 39 negara pada quartil kedua dan 78 negara pada quartil ketiga."
      ]
    },
    {
      "cell_type": "markdown",
      "metadata": {
        "id": "83P4ZNfy99at"
      },
      "source": [
        "Distribusi Data Generosity\n",
        "\n",
        "Dari grafik distribusi diatas, dapat dilihat bahwa tingkat generosity pada data World Happiness di tahun 2019 memiliki right skewness. Selain itu dapat diketahui bahwa nilai mean yang lebih besar dari median yaitu 0.184846 >0.1775."
      ]
    },
    {
      "cell_type": "markdown",
      "metadata": {
        "id": "Zbj4SZvG5B9Z"
      },
      "source": [
        "*Perceptions of corruption*\n",
        "\n"
      ]
    },
    {
      "cell_type": "code",
      "metadata": {
        "colab": {
          "base_uri": "https://localhost:8080/",
          "height": 875
        },
        "id": "RUL0eVrFQLBQ",
        "outputId": "e3c50657-5747-424c-e232-dfeed4b5e00a"
      },
      "source": [
        "print('Menentukan Mean, Modus dan Median')\n",
        "data_cor = data['Perceptions of corruption'].sort_values()\n",
        "desc_cor = pd.DataFrame(data['Perceptions of corruption'].describe())\n",
        "print(desc_cor)\n",
        "print()\n",
        "print('Mode')\n",
        "print((data['Perceptions of corruption'].value_counts()).head(5))\n",
        "print(data[['Country or region','Perceptions of corruption']][(data_cor==0.028)])#|(data_cor==0.078)|(data_cor==0.089)])\n",
        "#print(data[data_cor==float(data_cor.mode())]['Country or region'].to_string(index=False))\n",
        "print()\n",
        "print('Menentukan Sebaran Data')\n",
        "print('Total Country in the 1st Quartile =',data_cor[data_cor<=data['Perceptions of corruption'].quantile(0.25)].count())\n",
        "print('Total Country in the 2nd Quartile =',data_cor[(data_cor>data['Perceptions of corruption'].quantile(0.25))&(data_gen<=data['Perceptions of corruption'].quantile(0.50))].count())\n",
        "print('Total Country in the 3rd Quartile =',data_cor[data_cor>data['Perceptions of corruption'].quantile(0.5)].count())\n",
        "print()\n",
        "print('Menentukan distribusi data')\n",
        "sns.distplot(data['Perceptions of corruption'],color = 'black')\n",
        "plt.title('Distribusi Plot Perceptions of Corruption',size = 20)\n",
        "plt.grid(True)\n",
        "plt.legend(['Perceptions of corruption'],loc=1)\n",
        "plt.show()"
      ],
      "execution_count": null,
      "outputs": [
        {
          "output_type": "stream",
          "text": [
            "Menentukan Mean, Modus dan Median\n",
            "       Perceptions of corruption\n",
            "count                 156.000000\n",
            "mean                    0.110603\n",
            "std                     0.094538\n",
            "min                     0.000000\n",
            "25%                     0.047000\n",
            "50%                     0.085500\n",
            "75%                     0.141250\n",
            "max                     0.453000\n",
            "\n",
            "Mode\n",
            "0.028    4\n",
            "0.078    4\n",
            "0.089    4\n",
            "0.167    3\n",
            "0.100    3\n",
            "Name: Perceptions of corruption, dtype: int64\n",
            "Empty DataFrame\n",
            "Columns: [Country or region, Perceptions of corruption]\n",
            "Index: []\n",
            "\n",
            "Menentukan Sebaran Data\n",
            "Total Country in the 1st Quartile = 40\n",
            "Total Country in the 2nd Quartile = 17\n",
            "Total Country in the 3rd Quartile = 78\n",
            "\n",
            "Menentukan distribusi data\n"
          ],
          "name": "stdout"
        },
        {
          "output_type": "stream",
          "text": [
            "/usr/local/lib/python3.7/dist-packages/ipykernel_launcher.py:8: UserWarning: Boolean Series key will be reindexed to match DataFrame index.\n",
            "  \n",
            "/usr/local/lib/python3.7/dist-packages/seaborn/distributions.py:2557: FutureWarning: `distplot` is a deprecated function and will be removed in a future version. Please adapt your code to use either `displot` (a figure-level function with similar flexibility) or `histplot` (an axes-level function for histograms).\n",
            "  warnings.warn(msg, FutureWarning)\n"
          ],
          "name": "stderr"
        },
        {
          "output_type": "display_data",
          "data": {
            "image/png": "[encoded data removed]",
            "text/plain": [
              "<Figure size 432x288 with 1 Axes>"
            ]
          },
          "metadata": {
            "tags": [],
            "needs_background": "light"
          }
        }
      ]
    },
    {
      "cell_type": "markdown",
      "metadata": {
        "id": "yamzpgx35Ka4"
      },
      "source": [
        "Titik Pusat Data\n",
        "\n",
        "Jumlah negara yang berhasil didata pada tahun 2019 adalah 156. Rata-rata tingkat perceptions of corruption sebesar 0.110603 dengan nilai tengah 0.0855. Data ini dapat dikategorikan sebagai multimoda karena memiliki nilai modus lebih dari satu, yaitu 4 negara dengan modus 0.028, 0.078 dan 0.089."
      ]
    },
    {
      "cell_type": "markdown",
      "metadata": {
        "id": "cPtufETG5qQf"
      },
      "source": [
        "Persebaran Data\n",
        "\n",
        "Berdasarkan nilai quartil yang telah diperoleh, dapat diketahui kondisi persebaran data dari tingkat Generosity dari data World Happiness pada tahun 2019. Secara garis besar terdapat 40 negara yang berada pada quartil pertama, 17 negara pada quartil kedua dan 78 negara pada quartil ketiga."
      ]
    },
    {
      "cell_type": "markdown",
      "metadata": {
        "id": "tqXC2-Tb5qFD"
      },
      "source": [
        "Distribusi Data Generosity\n",
        "\n",
        "Dari grafik distribusi diatas, dapat dilihat bahwa tingkat perceptions of corruption pada data World Happiness di tahun 2019 memiliki right skewness. Selain itu dapat diketahui bahwa nilai mean yang lebih besar dari median yaitu 0.110603 >0.0855.\n",
        "\n"
      ]
    },
    {
      "cell_type": "markdown",
      "metadata": {
        "id": "youfrgZZ6A-r"
      },
      "source": [
        "# Soal 2"
      ]
    },
    {
      "cell_type": "code",
      "metadata": {
        "colab": {
          "base_uri": "https://localhost:8080/",
          "height": 390
        },
        "id": "1mgQekBt6RRj",
        "outputId": "7d13040f-f295-4726-d175-1ce874e6d088"
      },
      "source": [
        "q1 = data['Social support'].quantile(0.25)\n",
        "q3 = data['Social support'].quantile(0.75)\n",
        "iqr = q3 - q1\n",
        "lower = q1-(1.5*iqr)\n",
        "upper = q3+(1.5*iqr)\n",
        "outliers = data[(data['Social support']>upper) | (data['Social support']<lower)]\n",
        "print(outliers[['Country or region','Social support']]) \n",
        "data.boxplot(column = 'Social support')\n",
        "plt.title('Boxplot Social Support', size = 20)\n",
        "plt.ylabel('Value', size = 10)\n",
        "plt.show"
      ],
      "execution_count": null,
      "outputs": [
        {
          "output_type": "stream",
          "text": [
            "            Country or region  Social support\n",
            "101                     Benin           0.437\n",
            "144                   Burundi           0.447\n",
            "148                     Syria           0.378\n",
            "154  Central African Republic           0.000\n"
          ],
          "name": "stdout"
        },
        {
          "output_type": "execute_result",
          "data": {
            "text/plain": [
              "<function matplotlib.pyplot.show>"
            ]
          },
          "metadata": {
            "tags": []
          },
          "execution_count": 6
        },
        {
          "output_type": "display_data",
          "data": {
            "image/png": "[encoded data removed]",
            "text/plain": [
              "<Figure size 432x288 with 1 Axes>"
            ]
          },
          "metadata": {
            "tags": [],
            "needs_background": "light"
          }
        }
      ]
    },
    {
      "cell_type": "markdown",
      "metadata": {
        "id": "oaBWrpit904w"
      },
      "source": [
        "Berdasarkan boxplot diatas terdapat 4 negara dengan tingkat social support yang outlier. Dalam kasus ini, 4 negara tersebut adalah Benin, Burundi,Syria dan Central African republic. Keempat negara tersebut memiliki tingkat social support dibawah batas minimal."
      ]
    },
    {
      "cell_type": "markdown",
      "metadata": {
        "id": "t14uxeiS-ld7"
      },
      "source": [
        ""
      ]
    },
    {
      "cell_type": "markdown",
      "metadata": {
        "id": "FDyBYelD-uGU"
      },
      "source": [
        "# Soal 3"
      ]
    },
    {
      "cell_type": "code",
      "metadata": {
        "colab": {
          "base_uri": "https://localhost:8080/",
          "height": 407
        },
        "id": "oxSAjsXf-_kb",
        "outputId": "e21c48b5-92b4-45b6-8ca9-7341e6003bbb"
      },
      "source": [
        "a = (data['Freedom to make life choices']>=data['Freedom to make life choices'].mean())\n",
        "b = a==True\n",
        "print(b.value_counts())\n",
        "sns.distplot(data['Freedom to make life choices'],color = 'black')\n",
        "plt.title('Distribusi Plot Freedom to make life choices',size = 20)\n",
        "plt.grid(True)\n",
        "plt.show()"
      ],
      "execution_count": null,
      "outputs": [
        {
          "output_type": "stream",
          "text": [
            "True     84\n",
            "False    72\n",
            "Name: Freedom to make life choices, dtype: int64\n"
          ],
          "name": "stdout"
        },
        {
          "output_type": "stream",
          "text": [
            "/usr/local/lib/python3.7/dist-packages/seaborn/distributions.py:2557: FutureWarning: `distplot` is a deprecated function and will be removed in a future version. Please adapt your code to use either `displot` (a figure-level function with similar flexibility) or `histplot` (an axes-level function for histograms).\n",
            "  warnings.warn(msg, FutureWarning)\n"
          ],
          "name": "stderr"
        },
        {
          "output_type": "display_data",
          "data": {
            "image/png": "[encoded data removed]",
            "text/plain": [
              "<Figure size 432x288 with 1 Axes>"
            ]
          },
          "metadata": {
            "tags": [],
            "needs_background": "light"
          }
        }
      ]
    },
    {
      "cell_type": "markdown",
      "metadata": {
        "id": "rLKlLKRH_sxx"
      },
      "source": [
        "Dari grafik diatas dapat dilihat bahwa bentuk grafik lebih condong ke sebelah kanan, artinya distribusi data dari Freedom to make life choices dapat dikatakan memiliki karakteristik left skewness. Hal ini berarti nilai rata-rata lebih kecil dari nilai median dan dapat disimpulkan bahwa jumlah negara yang memiliki tingkat freedom of happiness di atas rata-rata lebih banyak dibandingkan yang di bawah rata-rata"
      ]
    },
    {
      "cell_type": "markdown",
      "metadata": {
        "id": "uDVIpL3GSu0-"
      },
      "source": [
        "# Soal 4"
      ]
    },
    {
      "cell_type": "code",
      "metadata": {
        "colab": {
          "base_uri": "https://localhost:8080/"
        },
        "id": "Cn41GKiUS0XZ",
        "outputId": "117bdab6-034d-42ba-f941-74395af8342c"
      },
      "source": [
        "data_gdp = data['GDP per capita']\n",
        "data_soc = data['Social support']\n",
        "data_health = data['Healthy life expectancy']\n",
        "data_score = data['Score']\n",
        "corr_gdp,_ = pearsonr(data_score,data_gdp)\n",
        "corr_soc,_ = pearsonr(data_score,data_soc)\n",
        "corr_health,_ = pearsonr(data_score,data_health)\n",
        "print('Pearsons correlation GDP vs Score: %3f' %corr_gdp)\n",
        "print('Pearsons correlation Social support vs Score: %3f' %corr_soc)\n",
        "print('Pearsons correlation Healthy life expectancy vs Score: %3f' %corr_health)"
      ],
      "execution_count": null,
      "outputs": [
        {
          "output_type": "stream",
          "text": [
            "Pearsons correlation GDP vs Score: 0.793883\n",
            "Pearsons correlation Social support vs Score: 0.777058\n",
            "Pearsons correlation Healthy life expectancy vs Score: 0.779883\n"
          ],
          "name": "stdout"
        }
      ]
    },
    {
      "cell_type": "markdown",
      "metadata": {
        "id": "a70wlHrLV0xf"
      },
      "source": [
        "Berdasarkan perhitungan korelasi menggunakan metode pearson correlation, diketahui bahwa GDP per capita, Social support dan healthy life expectancy memiliki korelasi positif terhadap score happiness. Semakin tinggi value dari masing-masing variable maka nilai score happiness akan semakin tinggi. Variabel GDP per kapita memiliki tingkat korelasi tertinggi dibandingkan kedua variable lainnya. Oleh karena itu untuk meningkatkan score happiness di masing-masing negara, pemerintah perlu membuat program untuk memperbaiki tingkat pendapatan untuk warga negaranya."
      ]
    },
    {
      "cell_type": "markdown",
      "metadata": {
        "id": "ezigyETmWs7B"
      },
      "source": [
        "# Soal 5"
      ]
    },
    {
      "cell_type": "code",
      "metadata": {
        "colab": {
          "base_uri": "https://localhost:8080/"
        },
        "id": "wqBYjkRVWvkA",
        "outputId": "4a820ded-1b0f-4734-d665-208fd6acfc48"
      },
      "source": [
        "data_score_up = data[data['Score']>data['Score'].mean()]\n",
        "data_score_up.info()"
      ],
      "execution_count": null,
      "outputs": [
        {
          "output_type": "stream",
          "text": [
            "<class 'pandas.core.frame.DataFrame'>\n",
            "Int64Index: 77 entries, 0 to 76\n",
            "Data columns (total 9 columns):\n",
            " #   Column                        Non-Null Count  Dtype  \n",
            "---  ------                        --------------  -----  \n",
            " 0   Overall rank                  77 non-null     int64  \n",
            " 1   Country or region             77 non-null     object \n",
            " 2   Score                         77 non-null     float64\n",
            " 3   GDP per capita                77 non-null     float64\n",
            " 4   Social support                77 non-null     float64\n",
            " 5   Healthy life expectancy       77 non-null     float64\n",
            " 6   Freedom to make life choices  77 non-null     float64\n",
            " 7   Generosity                    77 non-null     float64\n",
            " 8   Perceptions of corruption     77 non-null     float64\n",
            "dtypes: float64(7), int64(1), object(1)\n",
            "memory usage: 6.0+ KB\n"
          ],
          "name": "stdout"
        }
      ]
    },
    {
      "cell_type": "code",
      "metadata": {
        "colab": {
          "base_uri": "https://localhost:8080/",
          "height": 518
        },
        "id": "eiLEkxopXLib",
        "outputId": "bb728def-01be-44f8-c06f-9916a837d048"
      },
      "source": [
        "data_gdp_top5 = data_score_up.sort_values(by='GDP per capita',ascending = False).head(5)\n",
        "print(data_gdp_top5[['Country or region','Overall rank','Score','GDP per capita']])\n",
        "plt.figure(figsize=(8,6))\n",
        "plt.bar(data_gdp_top5['Country or region'],data_gdp_top5['Score'],color='blue')\n",
        "plt.title('Score for 5 Country with Highest GDP per capita',size = 20)\n",
        "plt.xlabel('Country',size = 15)\n",
        "plt.ylabel('Happiness Score',size = 15)\n",
        "plt.show()"
      ],
      "execution_count": null,
      "outputs": [
        {
          "output_type": "stream",
          "text": [
            "       Country or region  Overall rank  Score  GDP per capita\n",
            "28                 Qatar            29  6.374           1.684\n",
            "13            Luxembourg            14  7.090           1.609\n",
            "33             Singapore            34  6.262           1.572\n",
            "20  United Arab Emirates            21  6.825           1.503\n",
            "50                Kuwait            51  6.021           1.500\n"
          ],
          "name": "stdout"
        },
        {
          "output_type": "display_data",
          "data": {
            "image/png": "[encoded data removed]",
            "text/plain": [
              "<Figure size 576x432 with 1 Axes>"
            ]
          },
          "metadata": {
            "tags": [],
            "needs_background": "light"
          }
        }
      ]
    },
    {
      "cell_type": "code",
      "metadata": {
        "colab": {
          "base_uri": "https://localhost:8080/",
          "height": 518
        },
        "id": "hIIDi4slYsNL",
        "outputId": "61a073b7-444b-4dd8-b0d9-85cede7ed220"
      },
      "source": [
        "data_cor_low5 = data_score_up.sort_values(by='Perceptions of corruption').head(5)\n",
        "print(data_cor_low5[['Country or region','Overall rank','Score','Perceptions of corruption']])\n",
        "plt.figure(figsize=(8,6))\n",
        "plt.bar(data_cor_low5['Country or region'],data_cor_low5['Score'],color = 'orange')\n",
        "plt.title('Score for 5 Country with Lowest Perceptions of corruption',size = 20)\n",
        "plt.xlabel('Country',size = 15)\n",
        "plt.ylabel('Happiness Score',size = 15)\n",
        "plt.show()"
      ],
      "execution_count": null,
      "outputs": [
        {
          "output_type": "stream",
          "text": [
            "    Country or region  Overall rank  Score  Perceptions of corruption\n",
            "70            Moldova            71  5.529                      0.000\n",
            "47            Romania            48  6.070                      0.005\n",
            "45             Kosovo            46  6.100                      0.006\n",
            "37           Slovakia            38  6.198                      0.014\n",
            "38  Trinidad & Tobago            39  6.192                      0.016\n"
          ],
          "name": "stdout"
        },
        {
          "output_type": "display_data",
          "data": {
            "image/png": "[encoded data removed]",
            "text/plain": [
              "<Figure size 576x432 with 1 Axes>"
            ]
          },
          "metadata": {
            "tags": [],
            "needs_background": "light"
          }
        }
      ]
    },
    {
      "cell_type": "code",
      "metadata": {
        "colab": {
          "base_uri": "https://localhost:8080/",
          "height": 518
        },
        "id": "iYh0u3kVaTcY",
        "outputId": "a3263c3a-33f7-456c-a68e-063ec7b00e65"
      },
      "source": [
        "data_gen_low5 = data_score_up.sort_values(by='Generosity').head(5)\n",
        "print(data_gen_low5[['Country or region','Overall rank','Score','Generosity']])\n",
        "plt.figure(figsize=(8,6))\n",
        "plt.bar(data_gen_low5['Country or region'],data_gen_low5['Score'],color = 'grey')\n",
        "plt.title('Score for 5 Country with Lowest Generosity',size = 20)\n",
        "plt.xlabel('Country',size = 15)\n",
        "plt.ylabel('Happiness Score',size = 15)\n",
        "plt.show()"
      ],
      "execution_count": null,
      "outputs": [
        {
          "output_type": "stream",
          "text": [
            "   Country or region  Overall rank  Score  Generosity\n",
            "41         Lithuania            42  6.149       0.043\n",
            "19    Czech Republic            20  6.852       0.046\n",
            "65          Portugal            66  5.693       0.047\n",
            "46         Argentina            47  6.086       0.066\n",
            "57             Japan            58  5.886       0.069\n"
          ],
          "name": "stdout"
        },
        {
          "output_type": "display_data",
          "data": {
            "image/png": "[encoded data removed]",
            "text/plain": [
              "<Figure size 576x432 with 1 Axes>"
            ]
          },
          "metadata": {
            "tags": [],
            "needs_background": "light"
          }
        }
      ]
    },
    {
      "cell_type": "markdown",
      "metadata": {
        "id": "2zmdngXFbE9k"
      },
      "source": [
        "Berdasarkan pengolahan data yang telah dilakukan diketahui bahwa terdapat 77 negara yang memiliki score happiness di atas rata-rata. Diantara 77 negara tersebut dilakukan analisa lebih lanjut terkait GDP per capita, perceptions of corruption dan generosity."
      ]
    }
  ]
}